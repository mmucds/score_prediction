{
 "cells": [
  {
   "cell_type": "markdown",
   "id": "c0d90b96",
   "metadata": {},
   "source": [
    "## Model Training"
   ]
  },
  {
   "cell_type": "markdown",
   "id": "9c19b5bb",
   "metadata": {},
   "source": [
    "### Import Data and Required Packages\n",
    "- Importing Pandas, Numpy, Matplotlib, Seaborn and Warings Library."
   ]
  },
  {
   "cell_type": "code",
   "execution_count": 1,
   "id": "e94f630f",
   "metadata": {},
   "outputs": [],
   "source": [
    "# Basic Import\n",
    "import numpy as np\n",
    "import pandas as pd\n",
    "import seaborn as sns\n",
    "import matplotlib.pyplot as plt "
   ]
  },
  {
   "cell_type": "code",
   "execution_count": 2,
   "id": "f39ffc7e",
   "metadata": {},
   "outputs": [],
   "source": [
    "# Modelling\n",
    "from sklearn.svm import SVR\n",
    "from sklearn.tree import DecisionTreeRegressor\n",
    "from sklearn.neighbors import KNeighborsRegressor\n",
    "from sklearn.linear_model import Lasso, Ridge, LinearRegression\n",
    "from sklearn.ensemble import RandomForestRegressor, AdaBoostRegressor\n",
    "\n",
    "from xgboost import XGBRegressor\n",
    "from catboost import CatBoostRegressor\n",
    "\n",
    "from sklearn.model_selection import RandomizedSearchCV\n",
    "from sklearn.metrics import mean_squared_error, r2_score, mean_absolute_error\n",
    "\n",
    "import warnings"
   ]
  },
  {
   "cell_type": "markdown",
   "id": "120966bc",
   "metadata": {},
   "source": [
    "### Import the CSV Data as Pandas DataFrame"
   ]
  },
  {
   "cell_type": "code",
   "execution_count": 3,
   "id": "02366a9f",
   "metadata": {},
   "outputs": [],
   "source": [
    "# Path to the raw data\n",
    "DATA_PATH = '../data/raw_data/StudentsPerformance.csv'"
   ]
  },
  {
   "cell_type": "code",
   "execution_count": 4,
   "id": "2f3f812c",
   "metadata": {},
   "outputs": [],
   "source": [
    "df = pd.read_csv(filepath_or_buffer=DATA_PATH)"
   ]
  },
  {
   "cell_type": "code",
   "execution_count": 5,
   "id": "dd9eb69a",
   "metadata": {},
   "outputs": [
    {
     "data": {
      "text/html": [
       "<div>\n",
       "<style scoped>\n",
       "    .dataframe tbody tr th:only-of-type {\n",
       "        vertical-align: middle;\n",
       "    }\n",
       "\n",
       "    .dataframe tbody tr th {\n",
       "        vertical-align: top;\n",
       "    }\n",
       "\n",
       "    .dataframe thead th {\n",
       "        text-align: right;\n",
       "    }\n",
       "</style>\n",
       "<table border=\"1\" class=\"dataframe\">\n",
       "  <thead>\n",
       "    <tr style=\"text-align: right;\">\n",
       "      <th></th>\n",
       "      <th>gender</th>\n",
       "      <th>race_ethnicity</th>\n",
       "      <th>parental_level_of_education</th>\n",
       "      <th>lunch</th>\n",
       "      <th>test_preparation_course</th>\n",
       "      <th>math_score</th>\n",
       "      <th>reading_score</th>\n",
       "      <th>writing_score</th>\n",
       "    </tr>\n",
       "  </thead>\n",
       "  <tbody>\n",
       "    <tr>\n",
       "      <th>0</th>\n",
       "      <td>female</td>\n",
       "      <td>group B</td>\n",
       "      <td>bachelor's degree</td>\n",
       "      <td>standard</td>\n",
       "      <td>none</td>\n",
       "      <td>72</td>\n",
       "      <td>72</td>\n",
       "      <td>74</td>\n",
       "    </tr>\n",
       "    <tr>\n",
       "      <th>1</th>\n",
       "      <td>female</td>\n",
       "      <td>group C</td>\n",
       "      <td>some college</td>\n",
       "      <td>standard</td>\n",
       "      <td>completed</td>\n",
       "      <td>69</td>\n",
       "      <td>90</td>\n",
       "      <td>88</td>\n",
       "    </tr>\n",
       "    <tr>\n",
       "      <th>2</th>\n",
       "      <td>female</td>\n",
       "      <td>group B</td>\n",
       "      <td>master's degree</td>\n",
       "      <td>standard</td>\n",
       "      <td>none</td>\n",
       "      <td>90</td>\n",
       "      <td>95</td>\n",
       "      <td>93</td>\n",
       "    </tr>\n",
       "    <tr>\n",
       "      <th>3</th>\n",
       "      <td>male</td>\n",
       "      <td>group A</td>\n",
       "      <td>associate's degree</td>\n",
       "      <td>free/reduced</td>\n",
       "      <td>none</td>\n",
       "      <td>47</td>\n",
       "      <td>57</td>\n",
       "      <td>44</td>\n",
       "    </tr>\n",
       "    <tr>\n",
       "      <th>4</th>\n",
       "      <td>male</td>\n",
       "      <td>group C</td>\n",
       "      <td>some college</td>\n",
       "      <td>standard</td>\n",
       "      <td>none</td>\n",
       "      <td>76</td>\n",
       "      <td>78</td>\n",
       "      <td>75</td>\n",
       "    </tr>\n",
       "  </tbody>\n",
       "</table>\n",
       "</div>"
      ],
      "text/plain": [
       "   gender race_ethnicity parental_level_of_education         lunch  \\\n",
       "0  female        group B           bachelor's degree      standard   \n",
       "1  female        group C                some college      standard   \n",
       "2  female        group B             master's degree      standard   \n",
       "3    male        group A          associate's degree  free/reduced   \n",
       "4    male        group C                some college      standard   \n",
       "\n",
       "  test_preparation_course  math_score  reading_score  writing_score  \n",
       "0                    none          72             72             74  \n",
       "1               completed          69             90             88  \n",
       "2                    none          90             95             93  \n",
       "3                    none          47             57             44  \n",
       "4                    none          76             78             75  "
      ]
     },
     "execution_count": 5,
     "metadata": {},
     "output_type": "execute_result"
    }
   ],
   "source": [
    "df.head()"
   ]
  },
  {
   "cell_type": "markdown",
   "id": "491e1223",
   "metadata": {},
   "source": [
    "### Preparing X(Independent) and Y(Dependent ) variables"
   ]
  },
  {
   "cell_type": "code",
   "execution_count": 6,
   "id": "95392c88",
   "metadata": {},
   "outputs": [],
   "source": [
    "column_to_predict = 'math_score'"
   ]
  },
  {
   "cell_type": "code",
   "execution_count": 7,
   "id": "63d6477e",
   "metadata": {},
   "outputs": [],
   "source": [
    "X = df.drop(columns=[column_to_predict],\n",
    "            axis=1)"
   ]
  },
  {
   "cell_type": "code",
   "execution_count": 8,
   "id": "9e362c6a",
   "metadata": {},
   "outputs": [
    {
     "data": {
      "text/html": [
       "<div>\n",
       "<style scoped>\n",
       "    .dataframe tbody tr th:only-of-type {\n",
       "        vertical-align: middle;\n",
       "    }\n",
       "\n",
       "    .dataframe tbody tr th {\n",
       "        vertical-align: top;\n",
       "    }\n",
       "\n",
       "    .dataframe thead th {\n",
       "        text-align: right;\n",
       "    }\n",
       "</style>\n",
       "<table border=\"1\" class=\"dataframe\">\n",
       "  <thead>\n",
       "    <tr style=\"text-align: right;\">\n",
       "      <th></th>\n",
       "      <th>gender</th>\n",
       "      <th>race_ethnicity</th>\n",
       "      <th>parental_level_of_education</th>\n",
       "      <th>lunch</th>\n",
       "      <th>test_preparation_course</th>\n",
       "      <th>reading_score</th>\n",
       "      <th>writing_score</th>\n",
       "    </tr>\n",
       "  </thead>\n",
       "  <tbody>\n",
       "    <tr>\n",
       "      <th>0</th>\n",
       "      <td>female</td>\n",
       "      <td>group B</td>\n",
       "      <td>bachelor's degree</td>\n",
       "      <td>standard</td>\n",
       "      <td>none</td>\n",
       "      <td>72</td>\n",
       "      <td>74</td>\n",
       "    </tr>\n",
       "    <tr>\n",
       "      <th>1</th>\n",
       "      <td>female</td>\n",
       "      <td>group C</td>\n",
       "      <td>some college</td>\n",
       "      <td>standard</td>\n",
       "      <td>completed</td>\n",
       "      <td>90</td>\n",
       "      <td>88</td>\n",
       "    </tr>\n",
       "    <tr>\n",
       "      <th>2</th>\n",
       "      <td>female</td>\n",
       "      <td>group B</td>\n",
       "      <td>master's degree</td>\n",
       "      <td>standard</td>\n",
       "      <td>none</td>\n",
       "      <td>95</td>\n",
       "      <td>93</td>\n",
       "    </tr>\n",
       "    <tr>\n",
       "      <th>3</th>\n",
       "      <td>male</td>\n",
       "      <td>group A</td>\n",
       "      <td>associate's degree</td>\n",
       "      <td>free/reduced</td>\n",
       "      <td>none</td>\n",
       "      <td>57</td>\n",
       "      <td>44</td>\n",
       "    </tr>\n",
       "    <tr>\n",
       "      <th>4</th>\n",
       "      <td>male</td>\n",
       "      <td>group C</td>\n",
       "      <td>some college</td>\n",
       "      <td>standard</td>\n",
       "      <td>none</td>\n",
       "      <td>78</td>\n",
       "      <td>75</td>\n",
       "    </tr>\n",
       "  </tbody>\n",
       "</table>\n",
       "</div>"
      ],
      "text/plain": [
       "   gender race_ethnicity parental_level_of_education         lunch  \\\n",
       "0  female        group B           bachelor's degree      standard   \n",
       "1  female        group C                some college      standard   \n",
       "2  female        group B             master's degree      standard   \n",
       "3    male        group A          associate's degree  free/reduced   \n",
       "4    male        group C                some college      standard   \n",
       "\n",
       "  test_preparation_course  reading_score  writing_score  \n",
       "0                    none             72             74  \n",
       "1               completed             90             88  \n",
       "2                    none             95             93  \n",
       "3                    none             57             44  \n",
       "4                    none             78             75  "
      ]
     },
     "execution_count": 8,
     "metadata": {},
     "output_type": "execute_result"
    }
   ],
   "source": [
    "X.head()"
   ]
  },
  {
   "cell_type": "code",
   "execution_count": 9,
   "id": "b08c979c",
   "metadata": {},
   "outputs": [
    {
     "name": "stdout",
     "output_type": "stream",
     "text": [
      "Categories in 'gender' variable:    ['female' 'male']\n",
      "Categories in 'race_ethnicity' variable:    ['group B' 'group C' 'group A' 'group D' 'group E']\n",
      "Categories in'parental level of education' variable:    [\"bachelor's degree\" 'some college' \"master's degree\" \"associate's degree\"\n",
      " 'high school' 'some high school']\n",
      "Categories in 'lunch' variable:    ['standard' 'free/reduced']\n",
      "Categories in 'test preparation course' variable:    ['none' 'completed']\n"
     ]
    }
   ],
   "source": [
    "print(f\"Categories in 'gender' variable:    {df['gender'].unique()}\")\n",
    "print(f\"Categories in 'race_ethnicity' variable:    {df['race_ethnicity'].unique()}\")\n",
    "print(f\"Categories in'parental level of education' variable:    {df['parental_level_of_education'].unique()}\")\n",
    "print(f\"Categories in 'lunch' variable:    {df['lunch'].unique()}\")\n",
    "print(f\"Categories in 'test preparation course' variable:    {df['test_preparation_course'].unique()}\")"
   ]
  },
  {
   "cell_type": "code",
   "execution_count": 10,
   "id": "7ed1f2ab",
   "metadata": {},
   "outputs": [],
   "source": [
    "y = df[column_to_predict]"
   ]
  },
  {
   "cell_type": "code",
   "execution_count": 11,
   "id": "f4ee4ac1",
   "metadata": {},
   "outputs": [
    {
     "data": {
      "text/plain": [
       "0      72\n",
       "1      69\n",
       "2      90\n",
       "3      47\n",
       "4      76\n",
       "       ..\n",
       "995    88\n",
       "996    62\n",
       "997    59\n",
       "998    68\n",
       "999    77\n",
       "Name: math_score, Length: 1000, dtype: int64"
      ]
     },
     "execution_count": 11,
     "metadata": {},
     "output_type": "execute_result"
    }
   ],
   "source": [
    "y"
   ]
  },
  {
   "cell_type": "code",
   "execution_count": 12,
   "id": "e1723157",
   "metadata": {},
   "outputs": [],
   "source": [
    "# Create Column Transformer with 3 types of transformers\n",
    "num_features = X.select_dtypes(exclude='object').columns\n",
    "cat_features = X.select_dtypes(include='object').columns"
   ]
  },
  {
   "cell_type": "code",
   "execution_count": 13,
   "id": "185c8435",
   "metadata": {},
   "outputs": [
    {
     "data": {
      "text/plain": [
       "Index(['reading_score', 'writing_score'], dtype='object')"
      ]
     },
     "execution_count": 13,
     "metadata": {},
     "output_type": "execute_result"
    }
   ],
   "source": [
    "num_features"
   ]
  },
  {
   "cell_type": "code",
   "execution_count": 14,
   "id": "9bc5daca",
   "metadata": {},
   "outputs": [
    {
     "data": {
      "text/plain": [
       "Index(['gender', 'race_ethnicity', 'parental_level_of_education', 'lunch',\n",
       "       'test_preparation_course'],\n",
       "      dtype='object')"
      ]
     },
     "execution_count": 14,
     "metadata": {},
     "output_type": "execute_result"
    }
   ],
   "source": [
    "cat_features"
   ]
  },
  {
   "cell_type": "code",
   "execution_count": 15,
   "id": "135be696",
   "metadata": {},
   "outputs": [],
   "source": [
    "from sklearn.compose import ColumnTransformer\n",
    "from sklearn.preprocessing import OneHotEncoder, StandardScaler"
   ]
  },
  {
   "cell_type": "code",
   "execution_count": 16,
   "id": "fac2028d",
   "metadata": {},
   "outputs": [],
   "source": [
    "numeric_transformer = StandardScaler()\n",
    "catagorical_transformer = OneHotEncoder()\n",
    "\n",
    "preprocessor = ColumnTransformer(\n",
    "    [\n",
    "        ('OneHotEncoder', catagorical_transformer, cat_features),\n",
    "         ('StandardScaler', numeric_transformer, num_features),        \n",
    "    ]\n",
    ")"
   ]
  },
  {
   "cell_type": "code",
   "execution_count": 17,
   "id": "7a05ea8c",
   "metadata": {},
   "outputs": [],
   "source": [
    "X = preprocessor.fit_transform(X)"
   ]
  },
  {
   "cell_type": "code",
   "execution_count": 18,
   "id": "2b965b58",
   "metadata": {},
   "outputs": [
    {
     "data": {
      "text/plain": [
       "(1000, 19)"
      ]
     },
     "execution_count": 18,
     "metadata": {},
     "output_type": "execute_result"
    }
   ],
   "source": [
    "X.shape"
   ]
  },
  {
   "cell_type": "code",
   "execution_count": 19,
   "id": "aab5114b",
   "metadata": {},
   "outputs": [],
   "source": [
    "# separate dataset into train and test\n",
    "from sklearn.model_selection import train_test_split"
   ]
  },
  {
   "cell_type": "code",
   "execution_count": 20,
   "id": "d5207c8d",
   "metadata": {},
   "outputs": [
    {
     "data": {
      "text/plain": [
       "((800, 19), (200, 19))"
      ]
     },
     "execution_count": 20,
     "metadata": {},
     "output_type": "execute_result"
    }
   ],
   "source": [
    "X_train, X_test, y_train, y_test = train_test_split(X,\n",
    "                                                    y,\n",
    "                                                    test_size=0.2,\n",
    "                                                    random_state=100)\n",
    "X_train.shape, X_test.shape"
   ]
  },
  {
   "cell_type": "markdown",
   "id": "ca03e383",
   "metadata": {},
   "source": [
    "### Create an Evaluate Function to give all metrics after model Training"
   ]
  },
  {
   "cell_type": "code",
   "execution_count": 21,
   "id": "984d9361",
   "metadata": {},
   "outputs": [],
   "source": [
    "def evaluate_model(true_values, predicted_values):\n",
    "    mae = mean_absolute_error(y_true=true_values,\n",
    "                              y_pred=predicted_values)\n",
    "    mse = mean_squared_error(y_true=true_values, \n",
    "                             y_pred=predicted_values)\n",
    "    rmse = np.sqrt(mean_squared_error(y_true=true_values, \n",
    "                                      y_pred=predicted_values))\n",
    "    r2_square = r2_score(y_true=true_values, \n",
    "                         y_pred=predicted_values)\n",
    "    return mae, mse, rmse, r2_square"
   ]
  },
  {
   "cell_type": "code",
   "execution_count": 22,
   "id": "b9e07d4e",
   "metadata": {},
   "outputs": [
    {
     "name": "stdout",
     "output_type": "stream",
     "text": [
      "Linear Regression\n",
      "Model performance for Training set\n",
      "- Mean Absolute Error: 4.2477\n",
      "- Mean Squared Error: 28.4779\n",
      "- Root Mean Square Error: 5.3365\n",
      "- R2 Score: 0.8781\n",
      "----------------------------------\n",
      "Model performance for Test set\n",
      "- Mean Absolute Error: 4.3266\n",
      "- Mean Squared Error: 29.1122\n",
      "- Root Mean Square Error: 5.3956\n",
      "- R2 Score: 0.8595\n",
      "===================================\n",
      "\n",
      "\n",
      "Lasso\n",
      "Model performance for Training set\n",
      "- Mean Absolute Error: 5.1439\n",
      "- Mean Squared Error: 42.5109\n",
      "- Root Mean Square Error: 6.5200\n",
      "- R2 Score: 0.8180\n",
      "----------------------------------\n",
      "Model performance for Test set\n",
      "- Mean Absolute Error: 4.9479\n",
      "- Mean Squared Error: 39.5180\n",
      "- Root Mean Square Error: 6.2863\n",
      "- R2 Score: 0.8093\n",
      "===================================\n",
      "\n",
      "\n",
      "K-Neighbors Regressor\n",
      "Model performance for Training set\n",
      "- Mean Absolute Error: 4.6285\n",
      "- Mean Squared Error: 34.6063\n",
      "- Root Mean Square Error: 5.8827\n",
      "- R2 Score: 0.8518\n",
      "----------------------------------\n",
      "Model performance for Test set\n",
      "- Mean Absolute Error: 5.7990\n",
      "- Mean Squared Error: 53.6850\n",
      "- Root Mean Square Error: 7.3270\n",
      "- R2 Score: 0.7409\n",
      "===================================\n",
      "\n",
      "\n",
      "Decision Tree\n",
      "Model performance for Training set\n",
      "- Mean Absolute Error: 0.0325\n",
      "- Mean Squared Error: 0.1875\n",
      "- Root Mean Square Error: 0.4330\n",
      "- R2 Score: 0.9992\n",
      "----------------------------------\n",
      "Model performance for Test set\n",
      "- Mean Absolute Error: 6.2850\n",
      "- Mean Squared Error: 64.0650\n",
      "- Root Mean Square Error: 8.0041\n",
      "- R2 Score: 0.6908\n",
      "===================================\n",
      "\n",
      "\n",
      "Random Forest Regressor\n",
      "Model performance for Training set\n",
      "- Mean Absolute Error: 1.8402\n",
      "- Mean Squared Error: 5.5457\n",
      "- Root Mean Square Error: 2.3549\n",
      "- R2 Score: 0.9763\n",
      "----------------------------------\n",
      "Model performance for Test set\n",
      "- Mean Absolute Error: 4.8119\n",
      "- Mean Squared Error: 36.1151\n",
      "- Root Mean Square Error: 6.0096\n",
      "- R2 Score: 0.8257\n",
      "===================================\n",
      "\n",
      "\n",
      "XGBRegressor\n",
      "Model performance for Training set\n",
      "- Mean Absolute Error: 0.7225\n",
      "- Mean Squared Error: 1.1919\n",
      "- Root Mean Square Error: 1.0917\n",
      "- R2 Score: 0.9949\n",
      "----------------------------------\n",
      "Model performance for Test set\n",
      "- Mean Absolute Error: 4.8745\n",
      "- Mean Squared Error: 35.9383\n",
      "- Root Mean Square Error: 5.9949\n",
      "- R2 Score: 0.8266\n",
      "===================================\n",
      "\n",
      "\n",
      "CatBoosting Regressor\n",
      "Model performance for Training set\n",
      "- Mean Absolute Error: 2.3632\n",
      "- Mean Squared Error: 9.3044\n",
      "- Root Mean Square Error: 3.0503\n",
      "- R2 Score: 0.9602\n",
      "----------------------------------\n",
      "Model performance for Test set\n",
      "- Mean Absolute Error: 4.4347\n",
      "- Mean Squared Error: 29.9046\n",
      "- Root Mean Square Error: 5.4685\n",
      "- R2 Score: 0.8557\n",
      "===================================\n",
      "\n",
      "\n",
      "AdaBoost Regressor\n",
      "Model performance for Training set\n",
      "- Mean Absolute Error: 4.7275\n",
      "- Mean Squared Error: 33.9035\n",
      "- Root Mean Square Error: 5.8227\n",
      "- R2 Score: 0.8548\n",
      "----------------------------------\n",
      "Model performance for Test set\n",
      "- Mean Absolute Error: 4.7446\n",
      "- Mean Squared Error: 35.6067\n",
      "- Root Mean Square Error: 5.9671\n",
      "- R2 Score: 0.8282\n",
      "===================================\n",
      "\n",
      "\n"
     ]
    }
   ],
   "source": [
    "models = {\n",
    "    'Linear Regression': LinearRegression(),\n",
    "    'Lasso': Lasso(),\n",
    "    'K-Neighbors Regressor': KNeighborsRegressor(),\n",
    "    'Decision Tree': DecisionTreeRegressor(),\n",
    "    'Random Forest Regressor': RandomForestRegressor(),\n",
    "    'XGBRegressor': XGBRegressor(), \n",
    "    'CatBoosting Regressor': CatBoostRegressor(verbose=False),\n",
    "    'AdaBoost Regressor': AdaBoostRegressor()\n",
    "}\n",
    "model_list = []\n",
    "r2_list =[]\n",
    "\n",
    "for i in range(len(list(models))):\n",
    "    model = list(models.values())[i]\n",
    "    model.fit(X_train, y_train) # Train model\n",
    "\n",
    "    # Make predictions\n",
    "    y_train_pred = model.predict(X_train)\n",
    "    y_test_pred = model.predict(X_test)\n",
    "        \n",
    "    # Evaluate Train and Test dataset\n",
    "    model_train_mae , model_train_mse, model_train_rmse, model_train_r2 = evaluate_model(true_values=y_train, \n",
    "                                                                                         predicted_values=y_train_pred)\n",
    "\n",
    "    model_test_mae , model_test_mse, model_test_rmse, model_test_r2 = evaluate_model(true_values=y_test, \n",
    "                                                                                     predicted_values=y_test_pred)\n",
    "\n",
    "    \n",
    "    print(list(models.keys())[i])\n",
    "    model_list.append(list(models.keys())[i])\n",
    "    \n",
    "    print('Model performance for Training set')\n",
    "    print('- Mean Absolute Error: {:.4f}'.format(model_train_mae))\n",
    "    print('- Mean Squared Error: {:.4f}'.format(model_train_mse))\n",
    "    print('- Root Mean Square Error: {:.4f}'.format(model_train_rmse))\n",
    "    print('- R2 Score: {:.4f}'.format(model_train_r2))\n",
    "    print('----------------------------------')\n",
    "    print('Model performance for Test set')\n",
    "    print('- Mean Absolute Error: {:.4f}'.format(model_test_mae))\n",
    "    print('- Mean Squared Error: {:.4f}'.format(model_test_mse))\n",
    "    print('- Root Mean Square Error: {:.4f}'.format(model_test_rmse))\n",
    "    print('- R2 Score: {:.4f}'.format(model_test_r2))\n",
    "    \n",
    "    r2_list.append(model_test_r2)\n",
    "    \n",
    "    print('=' * 35)\n",
    "    print('\\n')"
   ]
  },
  {
   "cell_type": "markdown",
   "id": "c4b65adc",
   "metadata": {},
   "source": [
    "### Model Selection"
   ]
  },
  {
   "cell_type": "code",
   "execution_count": 23,
   "id": "34b25f78",
   "metadata": {},
   "outputs": [
    {
     "data": {
      "text/html": [
       "<div>\n",
       "<style scoped>\n",
       "    .dataframe tbody tr th:only-of-type {\n",
       "        vertical-align: middle;\n",
       "    }\n",
       "\n",
       "    .dataframe tbody tr th {\n",
       "        vertical-align: top;\n",
       "    }\n",
       "\n",
       "    .dataframe thead th {\n",
       "        text-align: right;\n",
       "    }\n",
       "</style>\n",
       "<table border=\"1\" class=\"dataframe\">\n",
       "  <thead>\n",
       "    <tr style=\"text-align: right;\">\n",
       "      <th></th>\n",
       "      <th>Model Name</th>\n",
       "      <th>R2_Score</th>\n",
       "    </tr>\n",
       "  </thead>\n",
       "  <tbody>\n",
       "    <tr>\n",
       "      <th>0</th>\n",
       "      <td>Linear Regression</td>\n",
       "      <td>0.859516</td>\n",
       "    </tr>\n",
       "    <tr>\n",
       "      <th>6</th>\n",
       "      <td>CatBoosting Regressor</td>\n",
       "      <td>0.855692</td>\n",
       "    </tr>\n",
       "    <tr>\n",
       "      <th>7</th>\n",
       "      <td>AdaBoost Regressor</td>\n",
       "      <td>0.828176</td>\n",
       "    </tr>\n",
       "    <tr>\n",
       "      <th>5</th>\n",
       "      <td>XGBRegressor</td>\n",
       "      <td>0.826576</td>\n",
       "    </tr>\n",
       "    <tr>\n",
       "      <th>4</th>\n",
       "      <td>Random Forest Regressor</td>\n",
       "      <td>0.825723</td>\n",
       "    </tr>\n",
       "    <tr>\n",
       "      <th>1</th>\n",
       "      <td>Lasso</td>\n",
       "      <td>0.809302</td>\n",
       "    </tr>\n",
       "    <tr>\n",
       "      <th>2</th>\n",
       "      <td>K-Neighbors Regressor</td>\n",
       "      <td>0.740937</td>\n",
       "    </tr>\n",
       "    <tr>\n",
       "      <th>3</th>\n",
       "      <td>Decision Tree</td>\n",
       "      <td>0.690848</td>\n",
       "    </tr>\n",
       "  </tbody>\n",
       "</table>\n",
       "</div>"
      ],
      "text/plain": [
       "                Model Name  R2_Score\n",
       "0        Linear Regression  0.859516\n",
       "6    CatBoosting Regressor  0.855692\n",
       "7       AdaBoost Regressor  0.828176\n",
       "5             XGBRegressor  0.826576\n",
       "4  Random Forest Regressor  0.825723\n",
       "1                    Lasso  0.809302\n",
       "2    K-Neighbors Regressor  0.740937\n",
       "3            Decision Tree  0.690848"
      ]
     },
     "execution_count": 23,
     "metadata": {},
     "output_type": "execute_result"
    }
   ],
   "source": [
    "pd.DataFrame(list(zip(model_list, r2_list)),\n",
    "             columns=['Model Name', 'R2_Score']).sort_values(by=['R2_Score'],\n",
    "                                                             ascending=False)"
   ]
  },
  {
   "cell_type": "markdown",
   "id": "4a8befeb",
   "metadata": {},
   "source": [
    "### Hyperparameter Tuning"
   ]
  },
  {
   "cell_type": "code",
   "execution_count": 24,
   "id": "aa4d6fee",
   "metadata": {},
   "outputs": [],
   "source": [
    "from sklearn.metrics import make_scorer\n",
    "from sklearn.model_selection import GridSearchCV, RandomizedSearchCV"
   ]
  },
  {
   "cell_type": "code",
   "execution_count": 25,
   "id": "6dca7b39",
   "metadata": {},
   "outputs": [
    {
     "name": "stdout",
     "output_type": "stream",
     "text": [
      "Linear Regression\n",
      "Best hyperparameters: {}\n",
      "Model performance for Training set\n",
      "- Root Mean Squared Error: 5.3365\n",
      "- Mean Squared Error: 28.4779\n",
      "- Mean Absolute Error: 4.2477\n",
      "- R2 Score: 0.8781\n",
      "----------------------------------\n",
      "Model performance for Test set\n",
      "- Root Mean Squared Error: 5.3956\n",
      "- Mean Squared Error: 5.3956\n",
      "- Mean Absolute Error: 4.3266\n",
      "- R2 Score: 0.8781\n",
      "===================================\n",
      "\n",
      "\n",
      "Lasso\n",
      "Best hyperparameters: {'alpha': 1}\n",
      "Model performance for Training set\n",
      "- Root Mean Squared Error: 6.5200\n",
      "- Mean Squared Error: 42.5109\n",
      "- Mean Absolute Error: 5.1439\n",
      "- R2 Score: 0.8180\n",
      "----------------------------------\n",
      "Model performance for Test set\n",
      "- Root Mean Squared Error: 6.2863\n",
      "- Mean Squared Error: 6.2863\n",
      "- Mean Absolute Error: 4.9479\n",
      "- R2 Score: 0.8180\n",
      "===================================\n",
      "\n",
      "\n",
      "K-Neighbors Regressor\n",
      "Best hyperparameters: {'n_neighbors': 7}\n",
      "Model performance for Training set\n",
      "- Root Mean Squared Error: 6.0758\n",
      "- Mean Squared Error: 36.9152\n",
      "- Mean Absolute Error: 4.7652\n",
      "- R2 Score: 0.8419\n",
      "----------------------------------\n",
      "Model performance for Test set\n",
      "- Root Mean Squared Error: 6.8008\n",
      "- Mean Squared Error: 6.8008\n",
      "- Mean Absolute Error: 5.4407\n",
      "- R2 Score: 0.8419\n",
      "===================================\n",
      "\n",
      "\n",
      "Decision Tree\n",
      "Best hyperparameters: {'criterion': 'friedman_mse', 'max_depth': 5}\n",
      "Model performance for Training set\n",
      "- Root Mean Squared Error: 5.7984\n",
      "- Mean Squared Error: 33.6215\n",
      "- Mean Absolute Error: 4.6530\n",
      "- R2 Score: 0.8560\n",
      "----------------------------------\n",
      "Model performance for Test set\n",
      "- Root Mean Squared Error: 6.3911\n",
      "- Mean Squared Error: 6.3911\n",
      "- Mean Absolute Error: 5.1522\n",
      "- R2 Score: 0.8560\n",
      "===================================\n",
      "\n",
      "\n",
      "Random Forest Regressor\n",
      "Best hyperparameters: {'max_depth': 7, 'n_estimators': 256}\n",
      "Model performance for Training set\n",
      "- Root Mean Squared Error: 4.1785\n",
      "- Mean Squared Error: 17.4597\n",
      "- Mean Absolute Error: 3.3558\n",
      "- R2 Score: 0.9252\n",
      "----------------------------------\n",
      "Model performance for Test set\n",
      "- Root Mean Squared Error: 5.8846\n",
      "- Mean Squared Error: 5.8846\n",
      "- Mean Absolute Error: 4.7221\n",
      "- R2 Score: 0.9252\n",
      "===================================\n",
      "\n",
      "\n",
      "[12:11:49] WARNING: C:\\buildkite-agent\\builds\\buildkite-windows-cpu-autoscaling-group-i-0fdc6d574b9c0d168-1\\xgboost\\xgboost-ci-windows\\src\\learner.cc:767: \n",
      "Parameters: { \"depth\", \"iterations\" } are not used.\n",
      "\n",
      "XGBRegressor\n",
      "Best hyperparameters: {'depth': 6, 'iterations': 30, 'learning_rate': 0.05}\n",
      "Model performance for Training set\n",
      "- Root Mean Squared Error: 3.9261\n",
      "- Mean Squared Error: 15.4143\n",
      "- Mean Absolute Error: 3.0387\n",
      "- R2 Score: 0.9340\n",
      "----------------------------------\n",
      "Model performance for Test set\n",
      "- Root Mean Squared Error: 5.7056\n",
      "- Mean Squared Error: 5.7056\n",
      "- Mean Absolute Error: 4.6075\n",
      "- R2 Score: 0.9340\n",
      "===================================\n",
      "\n",
      "\n",
      "CatBoosting Regressor\n",
      "Best hyperparameters: {'depth': 3, 'iterations': 500}\n",
      "Model performance for Training set\n",
      "- Root Mean Squared Error: 4.4976\n",
      "- Mean Squared Error: 20.2280\n",
      "- Mean Absolute Error: 3.5797\n",
      "- R2 Score: 0.9134\n",
      "----------------------------------\n",
      "Model performance for Test set\n",
      "- Root Mean Squared Error: 5.2733\n",
      "- Mean Squared Error: 5.2733\n",
      "- Mean Absolute Error: 4.2741\n",
      "- R2 Score: 0.9134\n",
      "===================================\n",
      "\n",
      "\n",
      "AdaBoost Regressor\n",
      "Best hyperparameters: {'learning_rate': 0.5, 'n_estimators': 256}\n",
      "Model performance for Training set\n",
      "- Root Mean Squared Error: 5.8083\n",
      "- Mean Squared Error: 33.7363\n",
      "- Mean Absolute Error: 4.7311\n",
      "- R2 Score: 0.8556\n",
      "----------------------------------\n",
      "Model performance for Test set\n",
      "- Root Mean Squared Error: 6.0158\n",
      "- Mean Squared Error: 6.0158\n",
      "- Mean Absolute Error: 4.8264\n",
      "- R2 Score: 0.8556\n",
      "===================================\n",
      "\n",
      "\n"
     ]
    }
   ],
   "source": [
    "# Define hyperparameter ranges for each model\n",
    "param_grid = {'Linear Regression': {},\n",
    "              'Lasso': {'alpha': [1]},\n",
    "              'K-Neighbors Regressor': {'n_neighbors': [3, 5, 7],},\n",
    "              'Decision Tree': {'max_depth': [3, 5, 7],\n",
    "                                'criterion':['squared_error', 'friedman_mse', 'absolute_error', 'poisson']},\n",
    "              \n",
    "              'Random Forest Regressor': {'n_estimators': [8, 16, 32, 64, 128, 256],\n",
    "                                          'max_depth': [3, 5, 7]},\n",
    "              \n",
    "              'Gradient Boosting': {'learning_rate':[0.1, 0.01, 0.05, 0.001],\n",
    "                                    'subsample':[0.6, 0.7, 0.75, 0.8, 0.85, 0.9],\n",
    "                                    'n_estimators': [8, 16, 32, 64, 128, 256]},\n",
    "              \n",
    "              'XGBRegressor': {'depth': [6, 8, 10],\n",
    "                               'learning_rate': [0.01, 0.05, 0.1],\n",
    "                               'iterations': [30, 50, 100]},\n",
    "              \n",
    "              'CatBoosting Regressor': {'iterations': [100, 500],\n",
    "                                        'depth': [3, 5, 7]},\n",
    "              \n",
    "              'AdaBoost Regressor': {'learning_rate':[0.1, 0.01, 0.5, 0.001],\n",
    "                                     'n_estimators': [8, 16, 32, 64, 128, 256]}\n",
    "             }\n",
    "\n",
    "model_list = []\n",
    "r2_list =[]\n",
    "\n",
    "for model_name, model in models.items():\n",
    "    # Create a scorer object to use in grid search\n",
    "    scorer = make_scorer(r2_score)\n",
    "\n",
    "    # Perform grid search to find the best hyperparameters\n",
    "    grid_search = GridSearchCV(estimator=model, \n",
    "                               param_grid=param_grid[model_name], \n",
    "                               scoring=scorer, \n",
    "                               cv=5,\n",
    "                               n_jobs=-1\n",
    "                              )\n",
    "    grid_search.fit(X_train, y_train) \n",
    "    \n",
    "    # Make predictions \n",
    "    y_train_pred = grid_search.predict(X_train) \n",
    "    y_test_pred = grid_search.predict(X_test) \n",
    "    \n",
    "    # Evaluate Train and Test dataset \n",
    "    model_train_mae, model_train_mse, model_train_rmse, model_train_r2 = evaluate_model(y_train, y_train_pred) \n",
    "    model_test_mae, model_test_mse, model_test_rmse, model_test_r2 = evaluate_model(y_test, y_test_pred) \n",
    "    print(model_name) \n",
    "    model_list.append(model_name) \n",
    "    \n",
    "    print('Best hyperparameters:', grid_search.best_params_) \n",
    "    print('Model performance for Training set') \n",
    "    print('- Root Mean Squared Error: {:.4f}'.format(model_train_rmse)) \n",
    "    print('- Mean Squared Error: {:.4f}'.format(model_train_mse)) \n",
    "    print('- Mean Absolute Error: {:.4f}'.format(model_train_mae)) \n",
    "    print('- R2 Score: {:.4f}'.format(model_train_r2)) \n",
    "    print('----------------------------------') \n",
    "    print('Model performance for Test set') \n",
    "    print('- Root Mean Squared Error: {:.4f}'.format(model_test_rmse)) \n",
    "    print('- Mean Squared Error: {:.4f}'.format(model_test_rmse)) \n",
    "    print('- Mean Absolute Error: {:.4f}'.format(model_test_mae)) \n",
    "    print('- R2 Score: {:.4f}'.format(model_train_r2))\n",
    "    r2_list.append(model_test_r2) \n",
    "    print('=' * 35)\n",
    "    print('\\n')"
   ]
  },
  {
   "cell_type": "markdown",
   "id": "cc165f4f",
   "metadata": {},
   "source": [
    "### Model Selection"
   ]
  },
  {
   "cell_type": "code",
   "execution_count": 26,
   "id": "de0c8c36",
   "metadata": {},
   "outputs": [
    {
     "data": {
      "text/html": [
       "<div>\n",
       "<style scoped>\n",
       "    .dataframe tbody tr th:only-of-type {\n",
       "        vertical-align: middle;\n",
       "    }\n",
       "\n",
       "    .dataframe tbody tr th {\n",
       "        vertical-align: top;\n",
       "    }\n",
       "\n",
       "    .dataframe thead th {\n",
       "        text-align: right;\n",
       "    }\n",
       "</style>\n",
       "<table border=\"1\" class=\"dataframe\">\n",
       "  <thead>\n",
       "    <tr style=\"text-align: right;\">\n",
       "      <th></th>\n",
       "      <th>Model Name</th>\n",
       "      <th>R2_Score</th>\n",
       "    </tr>\n",
       "  </thead>\n",
       "  <tbody>\n",
       "    <tr>\n",
       "      <th>6</th>\n",
       "      <td>CatBoosting Regressor</td>\n",
       "      <td>0.865810</td>\n",
       "    </tr>\n",
       "    <tr>\n",
       "      <th>0</th>\n",
       "      <td>Linear Regression</td>\n",
       "      <td>0.859516</td>\n",
       "    </tr>\n",
       "    <tr>\n",
       "      <th>5</th>\n",
       "      <td>XGBRegressor</td>\n",
       "      <td>0.842909</td>\n",
       "    </tr>\n",
       "    <tr>\n",
       "      <th>4</th>\n",
       "      <td>Random Forest Regressor</td>\n",
       "      <td>0.832898</td>\n",
       "    </tr>\n",
       "    <tr>\n",
       "      <th>7</th>\n",
       "      <td>AdaBoost Regressor</td>\n",
       "      <td>0.825361</td>\n",
       "    </tr>\n",
       "    <tr>\n",
       "      <th>1</th>\n",
       "      <td>Lasso</td>\n",
       "      <td>0.809302</td>\n",
       "    </tr>\n",
       "    <tr>\n",
       "      <th>3</th>\n",
       "      <td>Decision Tree</td>\n",
       "      <td>0.802894</td>\n",
       "    </tr>\n",
       "    <tr>\n",
       "      <th>2</th>\n",
       "      <td>K-Neighbors Regressor</td>\n",
       "      <td>0.776812</td>\n",
       "    </tr>\n",
       "  </tbody>\n",
       "</table>\n",
       "</div>"
      ],
      "text/plain": [
       "                Model Name  R2_Score\n",
       "6    CatBoosting Regressor  0.865810\n",
       "0        Linear Regression  0.859516\n",
       "5             XGBRegressor  0.842909\n",
       "4  Random Forest Regressor  0.832898\n",
       "7       AdaBoost Regressor  0.825361\n",
       "1                    Lasso  0.809302\n",
       "3            Decision Tree  0.802894\n",
       "2    K-Neighbors Regressor  0.776812"
      ]
     },
     "execution_count": 26,
     "metadata": {},
     "output_type": "execute_result"
    }
   ],
   "source": [
    "pd.DataFrame(data=list(zip(model_list, r2_list)),\n",
    "             columns=['Model Name', 'R2_Score']).sort_values(by=['R2_Score'],\n",
    "                                                             ascending=False)"
   ]
  },
  {
   "cell_type": "markdown",
   "id": "fead45f0",
   "metadata": {},
   "source": [
    "### Linear Regression"
   ]
  },
  {
   "cell_type": "code",
   "execution_count": 27,
   "id": "07bfc56c",
   "metadata": {},
   "outputs": [
    {
     "name": "stdout",
     "output_type": "stream",
     "text": [
      "Accuracy of the model is 85.95\n"
     ]
    }
   ],
   "source": [
    "lin_model = LinearRegression(fit_intercept=True)\n",
    "lin_model = lin_model.fit(X=X_train, y=y_train)\n",
    "y_pred = lin_model.predict(X=X_test)\n",
    "score = r2_score(y_true=y_test, y_pred=y_pred)*100\n",
    "print('Accuracy of the model is %.2f' %score)"
   ]
  },
  {
   "cell_type": "markdown",
   "id": "58fc01aa",
   "metadata": {},
   "source": [
    "### Plot y_pred and y_test"
   ]
  },
  {
   "cell_type": "code",
   "execution_count": 28,
   "id": "89c473db",
   "metadata": {},
   "outputs": [
    {
     "data": {
      "image/png": "[encoded data removed]",
      "text/plain": [
       "<Figure size 640x480 with 1 Axes>"
      ]
     },
     "metadata": {},
     "output_type": "display_data"
    }
   ],
   "source": [
    "plt.scatter(x=y_test, y=y_pred)\n",
    "plt.xlabel(xlabel='Actual Score')\n",
    "plt.ylabel(ylabel='Predected Score')\n",
    "plt.title(label='Actual Score vs Predicted Score.')\n",
    "plt.show()"
   ]
  },
  {
   "cell_type": "code",
   "execution_count": 29,
   "id": "9ddc0b7e",
   "metadata": {},
   "outputs": [
    {
     "data": {
      "image/png": "[encoded data removed]",
      "text/plain": [
       "<Figure size 640x480 with 1 Axes>"
      ]
     },
     "metadata": {},
     "output_type": "display_data"
    }
   ],
   "source": [
    "sns.regplot(x=y_test,\n",
    "            y=y_pred,\n",
    "            ci=None,\n",
    "            color ='red')\n",
    "plt.xlabel(xlabel='Actual Score')\n",
    "plt.ylabel(ylabel='Predected Score')\n",
    "plt.title(label='Actual Score vs Predicted Score.')\n",
    "plt.show()"
   ]
  },
  {
   "cell_type": "markdown",
   "id": "dd606210",
   "metadata": {},
   "source": [
    "### Difference between Actual and Predicted Values"
   ]
  },
  {
   "cell_type": "code",
   "execution_count": 30,
   "id": "096c3814",
   "metadata": {},
   "outputs": [
    {
     "data": {
      "text/html": [
       "<div>\n",
       "<style scoped>\n",
       "    .dataframe tbody tr th:only-of-type {\n",
       "        vertical-align: middle;\n",
       "    }\n",
       "\n",
       "    .dataframe tbody tr th {\n",
       "        vertical-align: top;\n",
       "    }\n",
       "\n",
       "    .dataframe thead th {\n",
       "        text-align: right;\n",
       "    }\n",
       "</style>\n",
       "<table border=\"1\" class=\"dataframe\">\n",
       "  <thead>\n",
       "    <tr style=\"text-align: right;\">\n",
       "      <th></th>\n",
       "      <th>Actual Value</th>\n",
       "      <th>Predicted Value</th>\n",
       "      <th>Difference</th>\n",
       "    </tr>\n",
       "  </thead>\n",
       "  <tbody>\n",
       "    <tr>\n",
       "      <th>249</th>\n",
       "      <td>68</td>\n",
       "      <td>61.5000</td>\n",
       "      <td>6.5000</td>\n",
       "    </tr>\n",
       "    <tr>\n",
       "      <th>353</th>\n",
       "      <td>46</td>\n",
       "      <td>50.5000</td>\n",
       "      <td>-4.5000</td>\n",
       "    </tr>\n",
       "    <tr>\n",
       "      <th>537</th>\n",
       "      <td>51</td>\n",
       "      <td>57.0000</td>\n",
       "      <td>-6.0000</td>\n",
       "    </tr>\n",
       "    <tr>\n",
       "      <th>424</th>\n",
       "      <td>41</td>\n",
       "      <td>40.3750</td>\n",
       "      <td>0.6250</td>\n",
       "    </tr>\n",
       "    <tr>\n",
       "      <th>564</th>\n",
       "      <td>48</td>\n",
       "      <td>50.0625</td>\n",
       "      <td>-2.0625</td>\n",
       "    </tr>\n",
       "    <tr>\n",
       "      <th>...</th>\n",
       "      <td>...</td>\n",
       "      <td>...</td>\n",
       "      <td>...</td>\n",
       "    </tr>\n",
       "    <tr>\n",
       "      <th>684</th>\n",
       "      <td>62</td>\n",
       "      <td>71.8125</td>\n",
       "      <td>-9.8125</td>\n",
       "    </tr>\n",
       "    <tr>\n",
       "      <th>644</th>\n",
       "      <td>70</td>\n",
       "      <td>68.5000</td>\n",
       "      <td>1.5000</td>\n",
       "    </tr>\n",
       "    <tr>\n",
       "      <th>110</th>\n",
       "      <td>77</td>\n",
       "      <td>81.4375</td>\n",
       "      <td>-4.4375</td>\n",
       "    </tr>\n",
       "    <tr>\n",
       "      <th>28</th>\n",
       "      <td>70</td>\n",
       "      <td>72.6250</td>\n",
       "      <td>-2.6250</td>\n",
       "    </tr>\n",
       "    <tr>\n",
       "      <th>804</th>\n",
       "      <td>73</td>\n",
       "      <td>71.0000</td>\n",
       "      <td>2.0000</td>\n",
       "    </tr>\n",
       "  </tbody>\n",
       "</table>\n",
       "<p>200 rows × 3 columns</p>\n",
       "</div>"
      ],
      "text/plain": [
       "     Actual Value  Predicted Value  Difference\n",
       "249            68          61.5000      6.5000\n",
       "353            46          50.5000     -4.5000\n",
       "537            51          57.0000     -6.0000\n",
       "424            41          40.3750      0.6250\n",
       "564            48          50.0625     -2.0625\n",
       "..            ...              ...         ...\n",
       "684            62          71.8125     -9.8125\n",
       "644            70          68.5000      1.5000\n",
       "110            77          81.4375     -4.4375\n",
       "28             70          72.6250     -2.6250\n",
       "804            73          71.0000      2.0000\n",
       "\n",
       "[200 rows x 3 columns]"
      ]
     },
     "execution_count": 30,
     "metadata": {},
     "output_type": "execute_result"
    }
   ],
   "source": [
    "pred_df=pd.DataFrame({'Actual Value':y_test,\n",
    "                      'Predicted Value':y_pred,\n",
    "                      'Difference':y_test-y_pred})\n",
    "pred_df"
   ]
  },
  {
   "cell_type": "markdown",
   "id": "fdc43335",
   "metadata": {},
   "source": [
    "### Convert the Model to Pickle File"
   ]
  },
  {
   "cell_type": "code",
   "execution_count": 31,
   "id": "ad4ab9f2",
   "metadata": {},
   "outputs": [],
   "source": [
    "# loading library\n",
    "# import pickle"
   ]
  },
  {
   "cell_type": "code",
   "execution_count": 32,
   "id": "bb920afb",
   "metadata": {},
   "outputs": [],
   "source": [
    "# create an iterator object with write permission - model.pkl\n",
    "# filename = '../artifacts/model.pkl'\n",
    "# with open(filename, 'wb') as file:\n",
    "#     pickle.dump(model, file)"
   ]
  },
  {
   "cell_type": "code",
   "execution_count": 33,
   "id": "e682cc0c",
   "metadata": {},
   "outputs": [],
   "source": [
    "# load saved model\n",
    "# with open(filename , 'rb') as file:\n",
    "#     loaded_model = pickle.load(file) "
   ]
  },
  {
   "cell_type": "markdown",
   "id": "4f799b2f",
   "metadata": {},
   "source": [
    "### Convert the Model to Joblib File"
   ]
  },
  {
   "cell_type": "code",
   "execution_count": 34,
   "id": "5706cea8",
   "metadata": {},
   "outputs": [],
   "source": [
    "# loading library\n",
    "# import joblib"
   ]
  },
  {
   "cell_type": "code",
   "execution_count": 35,
   "id": "12e8bb3f",
   "metadata": {},
   "outputs": [],
   "source": [
    "# save the model to disk\n",
    "# filename = '../artifacts/model.sav'\n",
    "# joblib.dump(model, filename)"
   ]
  },
  {
   "cell_type": "code",
   "execution_count": 36,
   "id": "674dd426",
   "metadata": {},
   "outputs": [],
   "source": [
    "# load the model from disk\n",
    "# loaded_model = joblib.load(filename)"
   ]
  }
 ],
 "metadata": {
  "kernelspec": {
   "display_name": "Python 3 (ipykernel)",
   "language": "python",
   "name": "python3"
  },
  "language_info": {
   "codemirror_mode": {
    "name": "ipython",
    "version": 3
   },
   "file_extension": ".py",
   "mimetype": "text/x-python",
   "name": "python",
   "nbconvert_exporter": "python",
   "pygments_lexer": "ipython3",
   "version": "3.11.3"
  }
 },
 "nbformat": 4,
 "nbformat_minor": 5
}
